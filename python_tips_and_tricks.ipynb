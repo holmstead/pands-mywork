{
 "cells": [
  {
   "cell_type": "markdown",
   "metadata": {},
   "source": [
    "# Python tips and tricks\n",
    "\n",
    "***\n",
    "\n",
    "### For more pythonic programming."
   ]
  },
  {
   "cell_type": "markdown",
   "metadata": {},
   "source": [
    "##### 1. Iterate with `enumerate` instead of `range(len(x))`\n",
    "\n",
    "Lets say we want to iterate over a list and replace negative values with zero."
   ]
  },
  {
   "cell_type": "code",
   "execution_count": null,
   "metadata": {},
   "outputs": [],
   "source": [
    "# set data in a list\n",
    "data = [1, 2, -4, -3]"
   ]
  },
  {
   "cell_type": "markdown",
   "metadata": {},
   "source": [
    "We could use `range(len(x))`:"
   ]
  },
  {
   "cell_type": "code",
   "execution_count": 3,
   "metadata": {},
   "outputs": [
    {
     "name": "stdout",
     "output_type": "stream",
     "text": [
      "[1, 2, 0, 0]\n"
     ]
    }
   ],
   "source": [
    "for i in range(len(data)):\n",
    "    if data[i] < 0:\n",
    "        data[i] = 0\n",
    "print(data)"
   ]
  },
  {
   "cell_type": "markdown",
   "metadata": {},
   "source": [
    "Or a better way would be to use `enumerate`: "
   ]
  },
  {
   "cell_type": "code",
   "execution_count": 5,
   "metadata": {},
   "outputs": [
    {
     "name": "stdout",
     "output_type": "stream",
     "text": [
      "[1, 2, 0, 0]\n"
     ]
    }
   ],
   "source": [
    "for idx, num in enumerate(data):\n",
    "    if num < 0:\n",
    "        data[idx] = 0\n",
    "print(data)"
   ]
  },
  {
   "cell_type": "markdown",
   "metadata": {},
   "source": [
    "The enumerate example is the first example in this [tutorial](https://www.youtube.com/watch?v=8OKTAedgFYg&t=106s). You can read more about the built-in function enumerate() [here](https://www.geeksforgeeks.org/enumerate-in-python/).\n",
    "\n",
    "***"
   ]
  },
  {
   "cell_type": "markdown",
   "metadata": {},
   "source": [
    "##### 2. Simplify if-statement with `if x in [a,b,c]`\n",
    "\n",
    " Say we want to check if the colour yellow is in the list, instead of checking each item seperately we can use `if x in [a,b,c]`."
   ]
  },
  {
   "cell_type": "code",
   "execution_count": 12,
   "metadata": {},
   "outputs": [],
   "source": [
    "# make a list\n",
    "colours = [\"green\", \"yellow\", \"blue\"]"
   ]
  },
  {
   "cell_type": "code",
   "execution_count": 10,
   "metadata": {},
   "outputs": [
    {
     "name": "stdout",
     "output_type": "stream",
     "text": [
      "c is in the list\n"
     ]
    }
   ],
   "source": [
    "c = \"yellow\"\n",
    "if c == \"yellow\" or c == \"green\" or c == \"blue\":\n",
    "    print(\"c is in the list\")"
   ]
  },
  {
   "cell_type": "markdown",
   "metadata": {},
   "source": [
    "We can simplify this check:"
   ]
  },
  {
   "cell_type": "code",
   "execution_count": 13,
   "metadata": {},
   "outputs": [
    {
     "name": "stdout",
     "output_type": "stream",
     "text": [
      "c is in the list\n"
     ]
    }
   ],
   "source": [
    "c = \"yellow\"\n",
    "if c in colours:\n",
    "    print(\"c is in the list\")"
   ]
  },
  {
   "cell_type": "markdown",
   "metadata": {},
   "source": [
    "Less prone to spelling errors, and easier to read.\n",
    "\n",
    "***"
   ]
  },
  {
   "cell_type": "markdown",
   "metadata": {},
   "source": [
    "##### 3. *args"
   ]
  },
  {
   "cell_type": "markdown",
   "metadata": {},
   "source": [
    "Example is taken from youtube video found [here](https://www.youtube.com/watch?v=4jBJhCaNrWU&t=119s).\n",
    "\n",
    "Lets say we have a list:"
   ]
  },
  {
   "cell_type": "code",
   "execution_count": 5,
   "metadata": {},
   "outputs": [],
   "source": [
    "# create a list\n",
    "days = [\"Monday\", \"Tuesday\", \"Wednesday\", \"Thursday\", \"Friday\", \"Saturday\", \"Sunday\"]"
   ]
  },
  {
   "cell_type": "markdown",
   "metadata": {},
   "source": [
    "If we use `print(days)` we get the entire list returned:"
   ]
  },
  {
   "cell_type": "code",
   "execution_count": 4,
   "metadata": {},
   "outputs": [
    {
     "name": "stdout",
     "output_type": "stream",
     "text": [
      "['Monday', 'Tuesday', 'Wednesday', 'Thursday', 'Friday', 'Saturday', 'Sunday']\n"
     ]
    }
   ],
   "source": [
    "# print the list\n",
    "print(days)"
   ]
  },
  {
   "cell_type": "markdown",
   "metadata": {},
   "source": [
    "If we use `*args` we *unpack* the list:"
   ]
  },
  {
   "cell_type": "code",
   "execution_count": 3,
   "metadata": {},
   "outputs": [
    {
     "name": "stdout",
     "output_type": "stream",
     "text": [
      "Monday Tuesday Wednesday Thursday Friday Saturday Sunday\n"
     ]
    }
   ],
   "source": [
    "# unpack the list\n",
    "print(*days)"
   ]
  },
  {
   "cell_type": "markdown",
   "metadata": {},
   "source": [
    "It can be used on other iterator type things like tuples and dictionaries as well:"
   ]
  },
  {
   "cell_type": "code",
   "execution_count": 6,
   "metadata": {},
   "outputs": [
    {
     "name": "stdout",
     "output_type": "stream",
     "text": [
      "Monday Tuesday Wednesday Thursday Friday Saturday Sunday\n"
     ]
    }
   ],
   "source": [
    "# create a tuple\n",
    "days = (\"Monday\", \"Tuesday\", \"Wednesday\", \"Thursday\", \"Friday\", \"Saturday\", \"Sunday\")\n",
    "print(*days)"
   ]
  },
  {
   "cell_type": "markdown",
   "metadata": {},
   "source": [
    "We can actually use it in reverse to *pack* arguements into a list/tuple etc."
   ]
  },
  {
   "cell_type": "code",
   "execution_count": 13,
   "metadata": {},
   "outputs": [],
   "source": [
    "# define the function\n",
    "def order_pizza(size, *toppings):\n",
    "    print(f\"Ordered a {size} pizza.\")\n",
    "    print(f\"Selected these toppings: {toppings}\")"
   ]
  },
  {
   "cell_type": "markdown",
   "metadata": {},
   "source": [
    "We have defined a function that is expecting `size` as the first input. Then it expects an undefined amount of inputs for `toppings`. We can put loads of toppings in as arguements after `size`, and it will *pack* them into a tuple called `toppings`."
   ]
  },
  {
   "cell_type": "code",
   "execution_count": 14,
   "metadata": {},
   "outputs": [
    {
     "name": "stdout",
     "output_type": "stream",
     "text": [
      "Ordered a large pizza.\n",
      "Selected these toppings: ('cheese', 'olives')\n"
     ]
    }
   ],
   "source": [
    "# call the function\n",
    "order_pizza(\"large\", \"cheese\", \"olives\")"
   ]
  },
  {
   "cell_type": "markdown",
   "metadata": {},
   "source": [
    "We should instead use the conventional naming system *args instead of *toppings:"
   ]
  },
  {
   "cell_type": "code",
   "execution_count": 16,
   "metadata": {},
   "outputs": [
    {
     "name": "stdout",
     "output_type": "stream",
     "text": [
      "Ordered a large pizza.\n",
      "Selected these toppings: ('cheese', 'olives')\n"
     ]
    }
   ],
   "source": [
    "# define the function\n",
    "def order_pizza(size, *args):\n",
    "    print(f\"Ordered a {size} pizza.\")\n",
    "    print(f\"Selected these toppings: {args}\")\n",
    "\n",
    "# call the function\n",
    "order_pizza(\"large\", \"cheese\", \"olives\")"
   ]
  },
  {
   "cell_type": "markdown",
   "metadata": {},
   "source": [
    "Let's tidy up the output:"
   ]
  },
  {
   "cell_type": "code",
   "execution_count": 20,
   "metadata": {},
   "outputs": [
    {
     "name": "stdout",
     "output_type": "stream",
     "text": [
      "Ordered a large pizza with the following toppings:\n",
      "- cheese\n",
      "- olives\n",
      "- pepperoni\n"
     ]
    }
   ],
   "source": [
    "# define the function\n",
    "def order_pizza(size, *args):\n",
    "    print(f\"Ordered a {size} pizza with the following toppings:\")\n",
    "    for arg in args:\n",
    "        print(f\"- {arg}\")\n",
    "\n",
    "# call the function\n",
    "order_pizza(\"large\", \"cheese\", \"olives\", \"pepperoni\")"
   ]
  },
  {
   "cell_type": "code",
   "execution_count": null,
   "metadata": {},
   "outputs": [],
   "source": []
  }
 ],
 "metadata": {
  "kernelspec": {
   "display_name": "Python 3",
   "language": "python",
   "name": "python3"
  },
  "language_info": {
   "codemirror_mode": {
    "name": "ipython",
    "version": 3
   },
   "file_extension": ".py",
   "mimetype": "text/x-python",
   "name": "python",
   "nbconvert_exporter": "python",
   "pygments_lexer": "ipython3",
   "version": "3.8.10"
  }
 },
 "nbformat": 4,
 "nbformat_minor": 2
}
